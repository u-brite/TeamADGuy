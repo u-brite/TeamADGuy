{
  "nbformat": 4,
  "nbformat_minor": 0,
  "metadata": {
    "colab": {
      "name": "Lasso_RF_Models.ipynb",
      "provenance": [],
      "collapsed_sections": []
    },
    "kernelspec": {
      "name": "python3",
      "display_name": "Python 3"
    },
    "language_info": {
      "name": "python"
    }
  },
  "cells": [
    {
      "cell_type": "code",
      "execution_count": null,
      "metadata": {
        "id": "Wss5QLZvpnVE"
      },
      "outputs": [],
      "source": [
        "import pandas as pd\n",
        "import numpy as np\n",
        "from sklearn import datasets, linear_model, svm\n",
        "from sklearn.model_selection import train_test_split, cross_val_score\n",
        "from matplotlib import pyplot as plt\n",
        "from sklearn.ensemble import RandomForestClassifier\n",
        "from sklearn.model_selection import cross_val_score\n",
        "from sklearn.model_selection import StratifiedKFold\n",
        "from sklearn.preprocessing import StandardScaler\n",
        "from sklearn.linear_model import LogisticRegressionCV\n",
        "from sklearn.model_selection import GridSearchCV\n",
        "from sklearn import metrics\n",
        "from sklearn.metrics import balanced_accuracy_score\n",
        "from sklearn.utils import compute_class_weight\n",
        "\n",
        "\n",
        "from sklearn.metrics import accuracy_score, f1_score,confusion_matrix,recall_score,precision_score,log_loss,roc_auc_score,roc_curve"
      ]
    },
    {
      "cell_type": "code",
      "source": [
        "X = pd.read_csv ('/content/x_rosmap_whole_gene_expression_downsampled.csv')\n",
        "\n",
        "y = pd.read_csv ('/content/y_rosmap_whole_gene_expression_downsampled.csv')"
      ],
      "metadata": {
        "id": "pbb5OwIJIEam"
      },
      "execution_count": null,
      "outputs": []
    },
    {
      "cell_type": "code",
      "source": [
        "X.shape"
      ],
      "metadata": {
        "colab": {
          "base_uri": "https://localhost:8080/"
        },
        "id": "hRzLO5mgbPQB",
        "outputId": "25cae0ea-7900-4ba2-94d1-378a39cc6422"
      },
      "execution_count": null,
      "outputs": [
        {
          "output_type": "execute_result",
          "data": {
            "text/plain": [
              "(5355, 190)"
            ]
          },
          "metadata": {},
          "execution_count": 18
        }
      ]
    },
    {
      "cell_type": "code",
      "source": [
        "X = X.transpose()"
      ],
      "metadata": {
        "id": "fxugGWKPbX5D"
      },
      "execution_count": null,
      "outputs": []
    },
    {
      "cell_type": "code",
      "source": [
        "y = y.transpose()"
      ],
      "metadata": {
        "id": "zNu8SUEfc0mL"
      },
      "execution_count": null,
      "outputs": []
    },
    {
      "cell_type": "code",
      "source": [
        " X_train, X_test, y_train, y_test = train_test_split(X, y, test_size=0.2, random_state=25)"
      ],
      "metadata": {
        "id": "tytuftqwPYMH"
      },
      "execution_count": null,
      "outputs": []
    },
    {
      "cell_type": "code",
      "source": [
        "#logistic regression\n",
        "log_reg = linear_model.LogisticRegression(\n",
        "    penalty='l1',\n",
        "    C=1.0,\n",
        "    solver='liblinear')\n",
        "\n",
        "log_reg.fit(X_train, y_train)\n",
        "\n",
        "y_pred = log_reg.predict(X_test)\n",
        "\n"
      ],
      "metadata": {
        "id": "puAIFuJLqKrz",
        "colab": {
          "base_uri": "https://localhost:8080/"
        },
        "outputId": "3bcca65d-9a8a-46da-cb65-c55c8f0e4f95"
      },
      "execution_count": null,
      "outputs": [
        {
          "output_type": "stream",
          "name": "stderr",
          "text": [
            "/usr/local/lib/python3.7/dist-packages/sklearn/utils/validation.py:993: DataConversionWarning: A column-vector y was passed when a 1d array was expected. Please change the shape of y to (n_samples, ), for example using ravel().\n",
            "  y = column_or_1d(y, warn=True)\n"
          ]
        }
      ]
    },
    {
      "cell_type": "code",
      "source": [
        "import numpy as np\n",
        "log_coef = log_reg.coef_"
      ],
      "metadata": {
        "id": "owp_Gj0qQt6O"
      },
      "execution_count": null,
      "outputs": []
    },
    {
      "cell_type": "code",
      "source": [
        "pd.DataFrame(log_coef).to_csv('log_coef.csv')  "
      ],
      "metadata": {
        "id": "M4o2xgr4WVHH"
      },
      "execution_count": null,
      "outputs": []
    },
    {
      "cell_type": "code",
      "source": [
        "print(accuracy_score(y_test,y_pred))"
      ],
      "metadata": {
        "colab": {
          "base_uri": "https://localhost:8080/"
        },
        "id": "umsfC6l9rBO9",
        "outputId": "a11a65b2-56cf-4a73-dfc1-e4d229a148be"
      },
      "execution_count": null,
      "outputs": [
        {
          "output_type": "stream",
          "name": "stdout",
          "text": [
            "0.6842105263157895\n"
          ]
        }
      ]
    },
    {
      "cell_type": "code",
      "source": [
        "print(f1_score(y_test,y_pred))\n",
        "print(roc_auc_score(y_test,y_pred))"
      ],
      "metadata": {
        "colab": {
          "base_uri": "https://localhost:8080/"
        },
        "id": "oGkZSgQPgwpg",
        "outputId": "53cdbd2c-926e-4ebd-ee04-fea126f58e18"
      },
      "execution_count": null,
      "outputs": [
        {
          "output_type": "stream",
          "name": "stdout",
          "text": [
            "0.6842105263157895\n",
            "0.6861111111111111\n"
          ]
        }
      ]
    },
    {
      "cell_type": "code",
      "source": [
        "#random forest"
      ],
      "metadata": {
        "id": "T6_4AxtHqMxr"
      },
      "execution_count": null,
      "outputs": []
    },
    {
      "cell_type": "code",
      "source": [
        "clf = RandomForestClassifier(max_depth=2, random_state=0)"
      ],
      "metadata": {
        "id": "IdBHqpUvB6tr"
      },
      "execution_count": 161,
      "outputs": []
    },
    {
      "cell_type": "code",
      "source": [
        "clf.fit(X_train, y_train)"
      ],
      "metadata": {
        "colab": {
          "base_uri": "https://localhost:8080/"
        },
        "id": "7vBaBn-OCBVO",
        "outputId": "dbcc5a29-b9da-4336-f732-717b669ffa2c"
      },
      "execution_count": 162,
      "outputs": [
        {
          "output_type": "stream",
          "name": "stderr",
          "text": [
            "/usr/local/lib/python3.7/dist-packages/ipykernel_launcher.py:1: DataConversionWarning: A column-vector y was passed when a 1d array was expected. Please change the shape of y to (n_samples,), for example using ravel().\n",
            "  \"\"\"Entry point for launching an IPython kernel.\n"
          ]
        },
        {
          "output_type": "execute_result",
          "data": {
            "text/plain": [
              "RandomForestClassifier(max_depth=2, random_state=0)"
            ]
          },
          "metadata": {},
          "execution_count": 162
        }
      ]
    },
    {
      "cell_type": "code",
      "source": [
        "rf_pred = clf.predict(X_test)"
      ],
      "metadata": {
        "id": "JB7Y32wOwDFH"
      },
      "execution_count": 163,
      "outputs": []
    },
    {
      "cell_type": "code",
      "source": [
        "print(accuracy_score(y_test,rf_pred))"
      ],
      "metadata": {
        "colab": {
          "base_uri": "https://localhost:8080/"
        },
        "id": "NH9mYP5CwLVd",
        "outputId": "8bc7060a-951b-4eea-a31d-d899dd2974ec"
      },
      "execution_count": 164,
      "outputs": [
        {
          "output_type": "stream",
          "name": "stdout",
          "text": [
            "0.6578947368421053\n"
          ]
        }
      ]
    },
    {
      "cell_type": "code",
      "source": [
        "clf_coef = clf.feature_importances_"
      ],
      "metadata": {
        "id": "9bhzXC1MSQsx"
      },
      "execution_count": null,
      "outputs": []
    },
    {
      "cell_type": "code",
      "source": [
        "pd.DataFrame(clf_coef).to_csv('clf_coef.csv')  "
      ],
      "metadata": {
        "id": "Xpa0ktvWWdKF"
      },
      "execution_count": null,
      "outputs": []
    },
    {
      "cell_type": "code",
      "source": [
        "print(f1_score(y_test,rf_pred))\n",
        "print(roc_auc_score(y_test,rf_pred))"
      ],
      "metadata": {
        "colab": {
          "base_uri": "https://localhost:8080/"
        },
        "id": "_YiOzwN_gmOC",
        "outputId": "892d3a41-6674-4ffa-ea15-30d5cc3251e5"
      },
      "execution_count": null,
      "outputs": [
        {
          "output_type": "stream",
          "name": "stdout",
          "text": [
            "0.6666666666666666\n",
            "0.6611111111111112\n"
          ]
        }
      ]
    },
    {
      "cell_type": "code",
      "source": [
        "n_methods = 4\n",
        "n_fold = 5\n",
        "skf = StratifiedKFold(n_splits=n_fold, random_state=40,shuffle=True) # stratified k fold partitiion shared by all methods\n",
        "# parameters to tune for each classifier\n",
        "rf_tuned_parameters = { \n",
        "    'n_estimators': [200,300,400,500],\n",
        "    'max_features': ['sqrt', 'log2'],\n",
        "    'max_depth' : [4,5,6,7,8],\n",
        "    'criterion' :['gini', 'entropy'],\n",
        "    'random_state' : [40]\n",
        "} \n",
        "svm_tuned_parameters =  [{'kernel': ['rbf'], 'gamma': [1e-2, 1e-3, 1e-4, 1e-5],\n",
        "                     'C': [0.001, 0.10, 0.1, 10, 25, 50, 100, 1000]},\n",
        "                    {'kernel': ['sigmoid'], 'gamma': [1e-2, 1e-3, 1e-4, 1e-5],\n",
        "                     'C': [0.001, 0.10, 0.1, 10, 25, 50, 100, 1000] },{'kernel': ['linear'], 'C': [0.001, 0.10, 0.1, 10, 25, 50, 100, 1000]}]     "
      ],
      "metadata": {
        "id": "KpiHe0p8pr3r"
      },
      "execution_count": null,
      "outputs": []
    },
    {
      "cell_type": "code",
      "source": [
        "# empty array to save coefficient from elstic net and lasso models\n",
        "el_coef = []\n",
        "lasso_coef = []\n",
        "\n",
        "# empty array to save model performance\n",
        "# empty array to save model performance\n",
        "elnet_accuracy = []\n",
        "lasso_accuracy = []\n",
        "SVM_accuracy = []\n",
        "RF_accuracy = []\n",
        "elnet_f1 = []\n",
        "lasso_f1 = []\n",
        "SVM_f1 = []\n",
        "RF_f1 = []\n",
        "elnet_roc_acu = []\n",
        "lasso_roc_auc = []\n",
        "SVM_roc_auc = []\n",
        "RF_ruc_auc = []\n",
        "\n",
        "## training performance\n",
        "elnet_accuracy_tr = []\n",
        "lasso_accuracy_tr = []\n",
        "SVM_accuracy_tr = []\n",
        "RF_accuracy_tr = []\n",
        "\n",
        "elnet_f1_tr = []\n",
        "lasso_f1_tr = []\n",
        "SVM_f1_tr = []\n",
        "RF_f1_tr = []\n",
        "\n",
        "elnet_roc_acu_tr = []\n",
        "lasso_roc_auc_tr = []\n",
        "SVM_roc_auc_tr = []\n",
        "RF_ruc_auc_tr = []\n",
        "\n",
        "x_train=[]\n",
        "x_test=[]\n",
        "y_train=[]\n",
        "y_test=[]\n",
        "i=0\n",
        "# nested 5-fold cross validation\n",
        "for train_index, test_index in skf.split(x, y):\n",
        "\n",
        "  tr_perf = list() # empty list for performance\n",
        "  test_perf = list()\n",
        "\n",
        "  X_train = x.loc[train_index,:]\n",
        "  X_test = x.loc[test_index,:]\n",
        "  Y_train = y.loc[train_index]\n",
        "  Y_test = y.loc[test_index]\n",
        "\n",
        "  x_train.append(X_train)\n",
        "  x_test.append(X_test)\n",
        "  y_train.append(Y_train)\n",
        "  y_test.append(Y_test)\n",
        "  print(\"data fold no.\",i)\n",
        "  i=i+1\n",
        "  \n",
        "  #Normalize data\n",
        "  scaler = StandardScaler().fit(X_train)\n",
        "  normalized_X_train = pd.DataFrame(\n",
        "    scaler.transform(X_train),\n",
        "    columns = X_train.columns\n",
        "    )\n",
        "  normalized_X_test = pd.DataFrame(\n",
        "    scaler.transform(X_test),\n",
        "    columns = X_test.columns\n",
        "    )\n",
        "  \n",
        "  # Logistic regression CV with elastic net penalty\n",
        "  elnet = LogisticRegressionCV(\n",
        "    l1_ratios= [0.0001,0.001,0.01,0.1, 0.5, 0.7, 0.9, 0.95, 0.99],\n",
        "    penalty='elasticnet',\n",
        "    solver='saga',\n",
        "    Cs=100,\n",
        "    max_iter=100, ## change may need\n",
        "    tol=0.01, ## change may need\n",
        "    cv= skf\n",
        "    )\n",
        "  elnet.fit(X=normalized_X_train, y=Y_train)\n",
        "  #el_coef.append(elnet.coef_)\n",
        "  el_c=elnet.coef_\n",
        "  el_coef.append(el_c)\n",
        "  metric_train = elnet.score(X = normalized_X_train, y = Y_train) # scoring = ['accuracy', 'f1','roc_auc']\n",
        "  metric_test = elnet.score(X = normalized_X_test, y = Y_test) #scoring = ['accuracy', 'f1','roc_auc']\n",
        "  print(\"training performance\")\n",
        "  y_elnet_trpred=elnet.predict(normalized_X_train)\n",
        "  \n",
        "  y_elnet_pred = elnet.predict(normalized_X_test)\n",
        "  print(\"test performance\")\n",
        "  print(\"elastic net Accuracy:\",metrics.accuracy_score(Y_test, y_elnet_pred))\n",
        "  print(\"elastic net f1:\",metrics.f1_score(Y_test, y_elnet_pred))\n",
        "  print(\"elastic net roc_auc_score:\",roc_auc_score(Y_test, y_elnet_pred))\n",
        "  tr_perf.append(metric_train)\n",
        "  test_perf.append(metric_test)\n",
        "\n",
        "  # Logistic regression CV with lasso penalty\n",
        "  lasso = LogisticRegressionCV(\n",
        "    penalty='l1',\n",
        "    Cs=100,\n",
        "    solver='liblinear', # added by bing\n",
        "    max_iter=150,\n",
        "    tol=0.01,\n",
        "    cv= skf\n",
        "    )\n",
        "  lasso.fit(X=normalized_X_train, y=Y_train)\n",
        "  #lasso_coef.append(lasso.coef_)\n",
        "  lasso_c=lasso.coef_\n",
        "  lasso_coef.append(lasso_c)\n",
        "  metric_train = lasso.score(X = normalized_X_train, y = Y_train) # scoring = ['accuracy', 'f1','roc_auc']\n",
        "  metric_test = lasso.score(X = normalized_X_test, y = Y_test) # scoring = ['accuracy', 'f1','roc_auc']\n",
        "  print(\"training performance\")\n",
        "  y_lasso_trpred=lasso.predict(normalized_X_train)\n",
        "\n",
        "  print(\"test performance\")\n",
        "  y_lasso_pred = lasso.predict(normalized_X_test)\n",
        "  print(\"lasso Accuracy:\",metrics.accuracy_score(Y_test, y_lasso_pred))\n",
        "  print(\"lasso f1:\",metrics.f1_score(Y_test, y_lasso_pred))\n",
        "  print(\"lasso roc_auc_score:\",roc_auc_score(Y_test, y_lasso_pred))\n",
        "  tr_perf.append(metric_train)\n",
        "  test_perf.append(metric_test)\n",
        "\n",
        "  #SVM CV\n",
        "  svc = svm.SVC()\n",
        "  clf = GridSearchCV(svc, svm_tuned_parameters, cv=skf, scoring='accuracy').fit(normalized_X_train, Y_train)\n",
        "  #optimized_clf.fit(normalized_X_train, Y_train)\n",
        "  optimized_clf = clf.best_estimator_\n",
        "  metric_train = optimized_clf.score(X = normalized_X_train, y = Y_train) #scoring = ['accuracy', 'f1','roc_auc']\n",
        "  metric_test = optimized_clf.score(X = normalized_X_test, y = Y_test) #scoring = ['accuracy', 'f1','roc_auc']\n",
        "  print(\"training performance\")\n",
        "  y_SVM_trpred=optimized_clf.predict(normalized_X_train)\n",
        "\n",
        "  print(\"test performance\")\n",
        "  y_SVM_pred = optimized_clf.predict(normalized_X_test)\n",
        "  print(\"SVM Accuracy:\",metrics.accuracy_score(Y_test, y_SVM_pred))\n",
        "  print(\"SVM f1:\",metrics.f1_score(Y_test, y_SVM_pred))\n",
        "  print(\"SVM roc_auc_score:\",roc_auc_score(Y_test, y_SVM_pred))\n",
        "  tr_perf.append(metric_train)\n",
        "  test_perf.append(metric_test)\n",
        "\n",
        "  #randome forest CV\n",
        "  clf = GridSearchCV(RandomForestClassifier(), rf_tuned_parameters, cv=skf, scoring='accuracy').fit(normalized_X_train, Y_train) #['accuracy', 'f1','roc_auc']\n",
        "  optimized_RF = clf.best_estimator_\n",
        "  #optimized_clf.fit(normalized_X_train, Y_train)\n",
        "  metric_train = optimized_RF.score(X = normalized_X_train, y = Y_train) #, scoring = ['accuracy', 'f1','roc_auc']\n",
        "  metric_test = optimized_RF.score(X = normalized_X_test, y = Y_test) #scoring = ['accuracy', 'f1','roc_auc'])\n",
        "  print(\"training performance\")\n",
        "  y_RF_trpred=optimized_RF.predict(normalized_X_train)\n",
        "\n",
        "  print(\"test performance\")\n",
        "  y_RF_pred = optimized_RF.predict(normalized_X_test)\n",
        "  print(\"randome forest Accuracy:\",metrics.accuracy_score(Y_test, y_RF_pred))\n",
        "  print(\"randome forest f1:\",metrics.f1_score(Y_test, y_RF_pred))\n",
        "  print(\"randome forest roc_auc_score:\",roc_auc_score(Y_test, y_RF_pred))\n",
        "  tr_perf.append(metric_train)\n",
        "  test_perf.append(metric_test)\n",
        "  \n",
        "  # save 6 performance tables to excel file\n",
        "  # initialize data of lists.\n",
        "\n",
        "  ### testing performance\n",
        "  el_acc=metrics.accuracy_score(Y_test, y_elnet_pred)\n",
        "  elnet_accuracy.append(el_acc)\n",
        "  lasso_acc=metrics.accuracy_score(Y_test, y_lasso_pred)\n",
        "  lasso_accuracy.append(lasso_acc)\n",
        "  svm_acc=metrics.accuracy_score(Y_test, y_SVM_pred)\n",
        "  SVM_accuracy.append(svm_acc)\n",
        "  rf_acc=metrics.accuracy_score(Y_test, y_RF_pred)\n",
        "  RF_accuracy.append(rf_acc)\n",
        "\n",
        "  el_f1=metrics.f1_score(Y_test, y_elnet_pred)\n",
        "  elnet_f1.append(el_f1)\n",
        "  las_f1=metrics.f1_score(Y_test, y_lasso_pred)\n",
        "  lasso_f1.append(las_f1)\n",
        "  svm_f1=metrics.f1_score(Y_test, y_SVM_pred)\n",
        "  SVM_f1.append(svm_f1)\n",
        "  rf_f1=metrics.f1_score(Y_test, y_RF_pred)\n",
        "  RF_f1.append(rf_f1)\n",
        "  el_roc=roc_auc_score(Y_test, y_elnet_pred)\n",
        "  elnet_roc_acu.append(el_roc)\n",
        "  lass_roc=roc_auc_score(Y_test, y_lasso_pred)\n",
        "  lasso_roc_auc.append(lass_roc)\n",
        "  svm_roc=roc_auc_score(Y_test, y_SVM_pred)\n",
        "  SVM_roc_auc.append(svm_roc)\n",
        "  rf_roc=roc_auc_score(Y_test, y_SVM_pred)\n",
        "  RF_ruc_auc.append(rf_roc)\n",
        "\n",
        "  ## training performance\n",
        "  el_tr_acc=metrics.accuracy_score(Y_train, y_elnet_trpred)\n",
        "  elnet_accuracy_tr.append(el_tr_acc)\n",
        "  las_tr_acc=metrics.accuracy_score(Y_train, y_lasso_trpred)\n",
        "  lasso_accuracy_tr.append(las_tr_acc)\n",
        "  svm_tr_acc=metrics.accuracy_score(Y_train, y_SVM_trpred)\n",
        "  SVM_accuracy_tr.append(svm_tr_acc)\n",
        "  rf_tr_acc=metrics.accuracy_score(Y_train, y_RF_trpred)\n",
        "  RF_accuracy_tr.append(rf_tr_acc)\n",
        "\n",
        "  el_tr_f1=metrics.f1_score(Y_train, y_elnet_trpred)\n",
        "  elnet_f1_tr.append(el_tr_f1)\n",
        "  las_tr_f1=metrics.f1_score(Y_train, y_lasso_trpred)\n",
        "  lasso_f1_tr.append(las_tr_f1)\n",
        "  svm_tr_f1=metrics.f1_score(Y_train, y_SVM_trpred)\n",
        "  SVM_f1_tr.append(svm_tr_f1)\n",
        "  rf_tr_f1=metrics.f1_score(Y_train, y_RF_trpred)\n",
        "  RF_f1_tr.append(rf_tr_f1)\n",
        "\n",
        "  el_tr_roc=roc_auc_score(Y_train, y_elnet_trpred)\n",
        "  elnet_roc_acu_tr.append(el_tr_roc)\n",
        "  las_tr_roc=roc_auc_score(Y_train, y_lasso_trpred)\n",
        "  lasso_roc_auc_tr.append(las_tr_roc)\n",
        "  svm_tr_roc=roc_auc_score(Y_train, y_SVM_trpred)\n",
        "  SVM_roc_auc_tr.append(svm_tr_roc)\n",
        "  rf_tr_roc=roc_auc_score(Y_train, y_SVM_trpred)\n",
        "  RF_ruc_auc_tr.append(rf_tr_roc)\n",
        "\n",
        "  "
      ],
      "metadata": {
        "id": "H6QuMbkFpr6L"
      },
      "execution_count": null,
      "outputs": []
    },
    {
      "cell_type": "code",
      "source": [
        "# save 5 fold data \n",
        "for i in range(5):\n",
        "    a=x_train[i]\n",
        "    b=y_train[i]\n",
        "    c=x_test[i]\n",
        "    d=y_test[i]\n",
        "    a.to_csv('FREESURFER/thick_x_train'+str(i)+'.csv')\n",
        "    b.to_csv('FREESURFER/thick_y_train'+str(i)+'.csv')\n",
        "    c.to_csv('FREESURFER/thick_x_test' + str(i) + '.csv')\n",
        "    d.to_csv('FREESURFER/thick_y_test' + str(i) + '.csv')"
      ],
      "metadata": {
        "id": "nJmjZSHNpr9F"
      },
      "execution_count": null,
      "outputs": []
    },
    {
      "cell_type": "code",
      "source": [
        "# Save the coefficient of elastic net and lasso to files: el_coef, lasso_coef\n",
        "for i in range(5):\n",
        "    a=lasso_coef[i]\n",
        "    a=pd.DataFrame(a)\n",
        "    a.to_csv('FREESURFER/classifier_results/thick__lasso_coef_fold'+str(i)+'.csv')\n",
        "\n",
        "for i in range(5):\n",
        "    b=el_coef[i]\n",
        "    b=pd.DataFrame(b)\n",
        "    b.to_csv('FREESURFER/classifier_results/thick__el_coef_fold'+str(i)+'.csv')"
      ],
      "metadata": {
        "id": "joZ8xUjOpsAO"
      },
      "execution_count": null,
      "outputs": []
    },
    {
      "cell_type": "code",
      "source": [
        "# empty array to save coefficient from elstic net and lasso models\n",
        "el_coef = []\n",
        "lasso_coef = []\n",
        "\n",
        "# empty array to save model performance\n",
        "# empty array to save model performance\n",
        "elnet_accuracy = []\n",
        "lasso_accuracy = []\n",
        "SVM_accuracy = []\n",
        "RF_accuracy = []\n",
        "elnet_f1 = []\n",
        "lasso_f1 = []\n",
        "SVM_f1 = []\n",
        "RF_f1 = []\n",
        "elnet_roc_acu = []\n",
        "lasso_roc_auc = []\n",
        "SVM_roc_auc = []\n",
        "RF_ruc_auc = []\n",
        "\n",
        "## training performance\n",
        "elnet_accuracy_tr = []\n",
        "lasso_accuracy_tr = []\n",
        "SVM_accuracy_tr = []\n",
        "RF_accuracy_tr = []\n",
        "\n",
        "elnet_f1_tr = []\n",
        "lasso_f1_tr = []\n",
        "SVM_f1_tr = []\n",
        "RF_f1_tr = []\n",
        "\n",
        "elnet_roc_acu_tr = []\n",
        "lasso_roc_auc_tr = []\n",
        "SVM_roc_auc_tr = []\n",
        "RF_ruc_auc_tr = []\n",
        "\n",
        "x_train=[]\n",
        "x_test=[]\n",
        "y_train=[]\n",
        "y_test=[]\n",
        "i=0\n",
        "# nested 5-fold cross validation\n",
        "for train_index, test_index in skf.split(x, y):\n",
        "\n",
        "  tr_perf = list() # empty list for performance\n",
        "  test_perf = list()\n",
        "\n",
        "  X_train = x.loc[train_index,:]\n",
        "  X_test = x.loc[test_index,:]\n",
        "  Y_train = y.loc[train_index]\n",
        "  Y_test = y.loc[test_index]\n",
        "\n",
        "  x_train.append(X_train)\n",
        "  x_test.append(X_test)\n",
        "  y_train.append(Y_train)\n",
        "  y_test.append(Y_test)\n",
        "  print(\"data fold no.\",i)\n",
        "  i=i+1\n",
        "  \n",
        "  #Normalize data\n",
        "  scaler = StandardScaler().fit(X_train)\n",
        "  normalized_X_train = pd.DataFrame(\n",
        "    scaler.transform(X_train),\n",
        "    columns = X_train.columns\n",
        "    )\n",
        "  normalized_X_test = pd.DataFrame(\n",
        "    scaler.transform(X_test),\n",
        "    columns = X_test.columns\n",
        "    )\n",
        "  \n",
        "  # Logistic regression CV with elastic net penalty\n",
        "  elnet = LogisticRegressionCV(\n",
        "    l1_ratios= [0.0001,0.001,0.01,0.1, 0.5, 0.7, 0.9, 0.95, 0.99],\n",
        "    penalty='elasticnet',\n",
        "    solver='saga',\n",
        "    Cs=100,\n",
        "    max_iter=100, ## change may need\n",
        "    tol=0.01, ## change may need\n",
        "    cv= skf\n",
        "    )\n",
        "  elnet.fit(X=normalized_X_train, y=Y_train)\n",
        "  #el_coef.append(elnet.coef_)\n",
        "  el_c=elnet.coef_\n",
        "  el_coef.append(el_c)\n",
        "  metric_train = elnet.score(X = normalized_X_train, y = Y_train) # scoring = ['accuracy', 'f1','roc_auc']\n",
        "  metric_test = elnet.score(X = normalized_X_test, y = Y_test) #scoring = ['accuracy', 'f1','roc_auc']\n",
        "  print(\"training performance\")\n",
        "  y_elnet_trpred=elnet.predict(normalized_X_train)\n",
        "  \n",
        "  y_elnet_pred = elnet.predict(normalized_X_test)\n",
        "  print(\"test performance\")\n",
        "  print(\"elastic net Accuracy:\",metrics.accuracy_score(Y_test, y_elnet_pred))\n",
        "  print(\"elastic net f1:\",metrics.f1_score(Y_test, y_elnet_pred))\n",
        "  print(\"elastic net roc_auc_score:\",roc_auc_score(Y_test, y_elnet_pred))\n",
        "  tr_perf.append(metric_train)\n",
        "  test_perf.append(metric_test)"
      ],
      "metadata": {
        "id": "_z4EseogqXK9"
      },
      "execution_count": null,
      "outputs": []
    }
  ]
}